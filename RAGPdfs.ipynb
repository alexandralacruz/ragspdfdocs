{
 "cells": [
  {
   "cell_type": "code",
   "execution_count": 3,
   "metadata": {},
   "outputs": [],
   "source": [
    "from src import config, converter\n",
    "import os"
   ]
  },
  {
   "cell_type": "code",
   "execution_count": 4,
   "metadata": {},
   "outputs": [
    {
     "name": "stdout",
     "output_type": "stream",
     "text": [
      "Copying sources\\2024B\\Manuel Forero-Procesamiento de imagenes.pdf to pdfs\\Manuel Forero-Procesamiento de imagenes.pdf...\n",
      "Copied sources\\2024B\\Manuel Forero-Procesamiento de imagenes.pdf to pdfs\\Manuel Forero-Procesamiento de imagenes.pdf\n",
      "Copying sources\\2024B\\Celso Javier Rodríguez Pizza\\APO2 - GR02 - Reflexión RAEs.pdf to pdfs\\APO2 - GR02 - Reflexión RAEs.pdf...\n",
      "Copied sources\\2024B\\Celso Javier Rodríguez Pizza\\APO2 - GR02 - Reflexión RAEs.pdf to pdfs\\APO2 - GR02 - Reflexión RAEs.pdf\n",
      "Copying sources\\2024B\\Celso Javier Rodríguez Pizza\\CN - GR01 - Reflexión RAEs.pdf to pdfs\\CN - GR01 - Reflexión RAEs.pdf...\n",
      "Copied sources\\2024B\\Celso Javier Rodríguez Pizza\\CN - GR01 - Reflexión RAEs.pdf to pdfs\\CN - GR01 - Reflexión RAEs.pdf\n",
      "Copying sources\\2024B\\Celso Javier Rodríguez Pizza\\MP - GR01 - Reflexión RAEs.pdf to pdfs\\MP - GR01 - Reflexión RAEs.pdf...\n",
      "Copied sources\\2024B\\Celso Javier Rodríguez Pizza\\MP - GR01 - Reflexión RAEs.pdf to pdfs\\MP - GR01 - Reflexión RAEs.pdf\n",
      "Copying sources\\2024B\\Celso Javier Rodríguez Pizza\\MP - GR02 - Reflexión RAEs.pdf to pdfs\\MP - GR02 - Reflexión RAEs.pdf...\n",
      "Copied sources\\2024B\\Celso Javier Rodríguez Pizza\\MP - GR02 - Reflexión RAEs.pdf to pdfs\\MP - GR02 - Reflexión RAEs.pdf\n",
      "Copying sources\\2024B\\Elizabeth Granados Pemberty\\Informe_de_reflexión_RAES Gestión 01.pdf to pdfs\\Informe_de_reflexión_RAES Gestión 01.pdf...\n",
      "Copied sources\\2024B\\Elizabeth Granados Pemberty\\Informe_de_reflexión_RAES Gestión 01.pdf to pdfs\\Informe_de_reflexión_RAES Gestión 01.pdf\n",
      "Copying sources\\2024B\\Elizabeth Granados Pemberty\\Informe_de_reflexión_RAES Lógica Algorítmica 02.pdf to pdfs\\Informe_de_reflexión_RAES Lógica Algorítmica 02.pdf...\n",
      "Copied sources\\2024B\\Elizabeth Granados Pemberty\\Informe_de_reflexión_RAES Lógica Algorítmica 02.pdf to pdfs\\Informe_de_reflexión_RAES Lógica Algorítmica 02.pdf\n",
      "Copying sources\\2024B\\Elizabeth Granados Pemberty\\Informe_de_reflexión_RAES Lógica Algorítmica 04.pdf to pdfs\\Informe_de_reflexión_RAES Lógica Algorítmica 04.pdf...\n",
      "Copied sources\\2024B\\Elizabeth Granados Pemberty\\Informe_de_reflexión_RAES Lógica Algorítmica 04.pdf to pdfs\\Informe_de_reflexión_RAES Lógica Algorítmica 04.pdf\n",
      "Copying sources\\2024B\\Elizabeth Granados Pemberty\\Informe_de_reflexión_RAES Lógica Algorítmica 07.pdf to pdfs\\Informe_de_reflexión_RAES Lógica Algorítmica 07.pdf...\n",
      "Copied sources\\2024B\\Elizabeth Granados Pemberty\\Informe_de_reflexión_RAES Lógica Algorítmica 07.pdf to pdfs\\Informe_de_reflexión_RAES Lógica Algorítmica 07.pdf\n",
      "Copying sources\\2024B\\Elizabeth Granados Pemberty\\Informe_de_reflexión_RAES Negociación 01.pdf to pdfs\\Informe_de_reflexión_RAES Negociación 01.pdf...\n",
      "Copied sources\\2024B\\Elizabeth Granados Pemberty\\Informe_de_reflexión_RAES Negociación 01.pdf to pdfs\\Informe_de_reflexión_RAES Negociación 01.pdf\n"
     ]
    }
   ],
   "source": [
    "\n",
    "# Convert all .docx files in the folder to PDFs\n",
    "converter.convert_folder_of_docx_to_pdf(config.DOCS_FOLDER, config.PDFS_FOLDER)\n"
   ]
  }
 ],
 "metadata": {
  "kernelspec": {
   "display_name": ".venv",
   "language": "python",
   "name": "python3"
  },
  "language_info": {
   "codemirror_mode": {
    "name": "ipython",
    "version": 3
   },
   "file_extension": ".py",
   "mimetype": "text/x-python",
   "name": "python",
   "nbconvert_exporter": "python",
   "pygments_lexer": "ipython3",
   "version": "3.10.0"
  }
 },
 "nbformat": 4,
 "nbformat_minor": 2
}
