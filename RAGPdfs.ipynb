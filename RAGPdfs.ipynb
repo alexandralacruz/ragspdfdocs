{
 "cells": [
  {
   "cell_type": "code",
   "execution_count": 1,
   "metadata": {},
   "outputs": [],
   "source": [
    "from src import config, converter, table_out, download_files\n",
    "import os\n",
    "import re\n",
    "import pandas as pd\n",
    "import matplotlib.pyplot as plt\n",
    "import seaborn as sns"
   ]
  },
  {
   "cell_type": "code",
   "execution_count": null,
   "metadata": {},
   "outputs": [],
   "source": [
    "\n",
    "# Convert all .docx files in the folder to PDFs\n",
    "converter.convert_folder_of_docx_to_pdf(config.DOCS_FOLDER, config.PDFS_FOLDER)\n",
    "table_out.process_files(config.PDFS_FOLDER,config.TABLES_FOLDER)\n",
    "table_out.read_and_show_csvs(config.TABLES_FOLDER)\n",
    "table_out.plot_all(config.TABLES_FOLDER)\n"
   ]
  }
 ],
 "metadata": {
  "kernelspec": {
   "display_name": ".venv",
   "language": "python",
   "name": "python3"
  },
  "language_info": {
   "codemirror_mode": {
    "name": "ipython",
    "version": 3
   },
   "file_extension": ".py",
   "mimetype": "text/x-python",
   "name": "python",
   "nbconvert_exporter": "python",
   "pygments_lexer": "ipython3",
   "version": "3.10.0"
  }
 },
 "nbformat": 4,
 "nbformat_minor": 2
}
